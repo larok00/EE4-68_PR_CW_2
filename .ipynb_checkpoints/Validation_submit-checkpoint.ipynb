{
 "cells": [
  {
   "cell_type": "markdown",
   "metadata": {},
   "source": [
    "Size of validation set. Number of principal components for PCA. Values of k for kNN."
   ]
  },
  {
   "cell_type": "code",
   "execution_count": null,
   "metadata": {},
   "outputs": [],
   "source": [
    "validation_size = 115\n",
    "M_pca = 25\n",
    "k = [1,2,3,5,10,20,50,75,100]"
   ]
  },
  {
   "cell_type": "code",
   "execution_count": 14,
   "metadata": {},
   "outputs": [],
   "source": [
    "from scipy.io import loadmat\n",
    "import json\n",
    "import numpy as np\n",
    "from sklearn.decomposition import PCA\n",
    "from sklearn.discriminant_analysis import LinearDiscriminantAnalysis\n",
    "from scipy.spatial import distance\n",
    "from sklearn.preprocessing import StandardScaler\n",
    "import random\n",
    "import matplotlib.pyplot as plt"
   ]
  },
  {
   "cell_type": "code",
   "execution_count": 2,
   "metadata": {},
   "outputs": [
    {
     "name": "stdout",
     "output_type": "stream",
     "text": [
      "camID: (14096,)\n",
      "filelist: (14096,)\n",
      "gallery_idx: (5328,)\n",
      "labels: (14096,)\n",
      "query_idx: (1400,)\n",
      "train_idx: (7368,)\n"
     ]
    }
   ],
   "source": [
    "data = loadmat('PR_data/cuhk03_new_protocol_config_labeled.mat')\n",
    "camID = data['camId'].flatten()\n",
    "filelist = data['filelist'].flatten()\n",
    "gallery_idx = data['gallery_idx'].flatten()\n",
    "labels = data['labels'].flatten()\n",
    "query_idx = data['query_idx'].flatten()\n",
    "train_idx = data['train_idx'].flatten()\n",
    "\n",
    "print('camID:',camID.shape)\n",
    "print('filelist:',filelist.shape)\n",
    "print('gallery_idx:',gallery_idx.shape)\n",
    "print('labels:',labels.shape)\n",
    "print('query_idx:',query_idx.shape)\n",
    "print('train_idx:',train_idx.shape)"
   ]
  },
  {
   "cell_type": "code",
   "execution_count": 3,
   "metadata": {},
   "outputs": [
    {
     "name": "stdout",
     "output_type": "stream",
     "text": [
      "(14096, 2048)\n"
     ]
    }
   ],
   "source": [
    "try:\n",
    "    features = loadmat('PR_data/features.mat')\n",
    "    features = features['features']\n",
    "except FileNotFoundError:\n",
    "    print('exception handling')\n",
    "    with open('PR_data/feature_data.json','r')as f: \n",
    "        features = json.load(f) \n",
    "        features = np.asarray(features) # each row is a feature (data instance) print(features.shape)\n",
    "print(features.shape)"
   ]
  },
  {
   "cell_type": "code",
   "execution_count": 4,
   "metadata": {},
   "outputs": [
    {
     "name": "stdout",
     "output_type": "stream",
     "text": [
      "working\n"
     ]
    }
   ],
   "source": [
    "def kNN(k,query,qLabels,qID,gallery,gLabels,gID,metric):\n",
    "    G = [] #list of lists, #list = #query imgs, length of each list = #gallery imgs used\n",
    "    for i in range(len(query)):\n",
    "        #indices for gallery features to use\n",
    "        G.append([x for x in range(len(gallery)) if not(gLabels[x]==qLabels[i] and gID[x]==qID[i])]) \n",
    "    print('G')\n",
    "    \n",
    "    sorted_idx = []\n",
    "    for i in range(len(query)):\n",
    "        Dist = distance.cdist(np.reshape(query[i],(1,-1)),gallery[G[i]],metric = metric)\n",
    "        sorted_idx.append(np.argsort(Dist))\n",
    "    print('sorted_idx')\n",
    "\n",
    "    def accuracy(k):\n",
    "        NN = [arr[0,:k] for arr in sorted_idx]\n",
    "\n",
    "        sum = 0\n",
    "        for i in range(len(query)):\n",
    "            usedLabels = gLabels[G[i]] # labels of gallery images used for each query image\n",
    "            if(qLabels[i] in usedLabels[NN[i]]): \n",
    "                sum += 1\n",
    "        acc = sum/len(query)\n",
    "        return acc\n",
    "    print('NN')\n",
    "    \n",
    "    if type(k) is list:\n",
    "        acc = []\n",
    "        for n in k:\n",
    "            acc.append(accuracy(n))\n",
    "    else:\n",
    "        acc = accuracy(k)\n",
    "    \n",
    "    return acc\n",
    "\n",
    "print('working')"
   ]
  },
  {
   "cell_type": "code",
   "execution_count": 5,
   "metadata": {},
   "outputs": [],
   "source": [
    "def fit_model(model, training_dataset, query_dataset, gallery_dataset):\n",
    "    model = model.fit(training_dataset.features_array(), training_dataset.labels())\n",
    "    omega_query = model.transform(query_dataset.features_array())\n",
    "    omega_gallery = model.transform(gallery_dataset.features_array())\n",
    "    \n",
    "    return model, omega_query, omega_gallery"
   ]
  },
  {
   "cell_type": "code",
   "execution_count": 6,
   "metadata": {},
   "outputs": [
    {
     "name": "stdout",
     "output_type": "stream",
     "text": [
      "767\n",
      "6601\n"
     ]
    }
   ],
   "source": [
    "train = features[train_idx-1]\n",
    "scalar = StandardScaler().fit(train)\n",
    "train = scalar.transform(train)\n",
    "tLabels = labels[train_idx-1]\n",
    "query = scalar.transform(features[query_idx-1])\n",
    "qLabels = labels[query_idx-1]\n",
    "gallery = scalar.transform(features[gallery_idx-1])\n",
    "gLabels = labels[gallery_idx-1]\n",
    "tID = camID[train_idx-1]\n",
    "qID = camID[query_idx-1]\n",
    "gID = camID[gallery_idx-1]\n",
    "\n",
    "c = len(np.unique(tLabels)) #767\n",
    "print(c)\n",
    "\n",
    "print(len(train)-c) # 6601"
   ]
  },
  {
   "cell_type": "code",
   "execution_count": 7,
   "metadata": {},
   "outputs": [],
   "source": [
    "class Datapoint(object):\n",
    "    def __init__(self, features, label, cam_id):\n",
    "        self.features = features\n",
    "        self.label = label\n",
    "        self.cam_id = cam_id\n",
    "\n",
    "class Dataset(object):\n",
    "    def __init__(self, datapoint_list=None):\n",
    "        if datapoint_list:\n",
    "            self.datapoints = datapoint_list\n",
    "        else:\n",
    "            self.datapoints = []\n",
    "    \n",
    "    def features_array(self):\n",
    "        return np.array([datapoint.features for datapoint in self.datapoints])\n",
    "    def labels(self):\n",
    "        return np.array([datapoint.label for datapoint in self.datapoints])\n",
    "    def cam_ids(self):\n",
    "        return np.array([datapoint.cam_id for datapoint in self.datapoints])\n",
    "\n",
    "training_dataset = Dataset([Datapoint(train[i], tLabels[i], tID[i]) for i in range(len(train))])\n",
    "query_dataset = Dataset([Datapoint(query[i], qLabels[i], qID[i]) for i in range(len(query))])\n",
    "gallery_dataset = Dataset([Datapoint(gallery[i], gLabels[i], gID[i]) for i in range(len(gallery))])"
   ]
  },
  {
   "cell_type": "code",
   "execution_count": 72,
   "metadata": {},
   "outputs": [],
   "source": [
    "# Create validation set\n",
    "np.random.seed(seed = 155)\n",
    "valLabels = np.random.choice(np.unique(tLabels),validation_size,replace=False)\n",
    "validation_subset = Dataset()\n",
    "training_subset = Dataset() #6251 features\n",
    "for x in training_dataset.datapoints:\n",
    "    if x.label in valLabels:\n",
    "        validation_subset.datapoints.append(x)\n",
    "    else:\n",
    "        training_subset.datapoints.append(x)"
   ]
  },
  {
   "cell_type": "code",
   "execution_count": 73,
   "metadata": {},
   "outputs": [
    {
     "name": "stdout",
     "output_type": "stream",
     "text": [
      "1533 5835\n",
      "230 873\n"
     ]
    }
   ],
   "source": [
    "#split validation_subset into validation_query and validation_gallery\n",
    "def gallery_query_split(dataset):\n",
    "    random.seed(3)\n",
    "    shuffled = dataset\n",
    "    random.shuffle(shuffled.datapoints)\n",
    "\n",
    "    query = Dataset()\n",
    "    gallery = Dataset()\n",
    "    query_set = set()\n",
    "    for x in shuffled.datapoints:\n",
    "        if (x.label, x.cam_id) in query_set:\n",
    "            gallery.datapoints.append(x)\n",
    "        else:\n",
    "            query.datapoints.append(x)\n",
    "            query_set.add((x.label, x.cam_id))\n",
    "\n",
    "    print(len(query.datapoints),len(gallery.datapoints))\n",
    "    return query, gallery\n",
    "\n",
    "training_query, training_gallery = gallery_query_split(training_dataset)\n",
    "validation_query, validation_gallery = gallery_query_split(validation_subset)"
   ]
  },
  {
   "cell_type": "code",
   "execution_count": 82,
   "metadata": {},
   "outputs": [
    {
     "name": "stdout",
     "output_type": "stream",
     "text": [
      "(25, 2048)\n",
      "G\n",
      "sorted_idx\n",
      "NN\n",
      "pca training : [0.9889106327462491, 0.9895629484670581, 0.9902152641878669, 0.9902152641878669, 0.9902152641878669, 0.9908675799086758, 0.9915198956294846, 0.9915198956294846, 0.9915198956294846]\n"
     ]
    }
   ],
   "source": [
    "pca = PCA(n_components=M_pca)\n",
    "pca, omega_q_pca, omega_g_pca = fit_model(pca, training_subset, training_query, training_gallery)\n",
    "w_pca = pca.components_\n",
    "print(w_pca.shape)\n",
    "np.sum(pca.explained_variance_ratio_)\n",
    "\n",
    "acc_pca1 = kNN(k = k,query=omega_q_pca,qLabels=training_query.labels(),\n",
    "              qID=training_query.cam_ids(),gallery=omega_g_pca,\n",
    "              gLabels=training_gallery.labels(),gID=training_gallery.cam_ids(),metric='euclidean')\n",
    "print('pca training :',acc_pca1)\n",
    "\n"
   ]
  },
  {
   "cell_type": "code",
   "execution_count": 83,
   "metadata": {},
   "outputs": [
    {
     "name": "stdout",
     "output_type": "stream",
     "text": [
      "(25, 2048) (230, 25)\n",
      "G\n",
      "sorted_idx\n",
      "NN\n",
      "pca validation : [0.9826086956521739, 0.9826086956521739, 0.9869565217391304, 0.9869565217391304, 0.9869565217391304, 0.9869565217391304, 0.9869565217391304, 0.9869565217391304, 0.9869565217391304]\n"
     ]
    }
   ],
   "source": [
    "pca = PCA(n_components=M_pca)\n",
    "\n",
    "pca, omega_q_pca, omega_g_pca = fit_model(pca, training_subset, validation_query, validation_gallery)\n",
    "w_pca = pca.components_\n",
    "print(w_pca.shape, omega_q_pca.shape)\n",
    "np.sum(pca.explained_variance_ratio_)\n",
    "\n",
    "acc_pca2 = kNN(k = k,query=omega_q_pca,qLabels=validation_query.labels(),\n",
    "              qID=validation_query.cam_ids(),gallery=omega_g_pca,\n",
    "              gLabels=validation_gallery.labels(),gID=validation_gallery.cam_ids(),metric='euclidean')\n",
    "print('pca validation :',acc_pca2)"
   ]
  },
  {
   "cell_type": "code",
   "execution_count": 84,
   "metadata": {},
   "outputs": [
    {
     "name": "stdout",
     "output_type": "stream",
     "text": [
      "(25, 2048) (230, 25)\n",
      "G\n",
      "sorted_idx\n",
      "NN\n",
      "pca validation : [0.0, 0.0, 0.004347826086956522, 0.013043478260869565, 0.034782608695652174, 0.06521739130434782, 0.16956521739130434, 0.2565217391304348, 0.36086956521739133]\n"
     ]
    }
   ],
   "source": [
    "pca = PCA(n_components=M_pca)\n",
    "\n",
    "pca, omega_q_pca, omega_g_pca = fit_model(pca, training_subset, validation_query, validation_gallery)\n",
    "w_pca = pca.components_\n",
    "print(w_pca.shape, omega_q_pca.shape)\n",
    "np.sum(pca.explained_variance_ratio_)\n",
    "\n",
    "acc_pca3 = kNN(k = k,query=omega_q_pca,qLabels=query_dataset.labels(),\n",
    "              qID=query_dataset.cam_ids(),gallery=omega_g_pca,\n",
    "              gLabels=gallery_dataset.labels(),gID=gallery_dataset.cam_ids(),metric='euclidean')\n",
    "print('pca validation :',acc_pca3)"
   ]
  },
  {
   "cell_type": "code",
   "execution_count": 85,
   "metadata": {},
   "outputs": [
    {
     "data": {
      "text/plain": [
       "<matplotlib.legend.Legend at 0x31f51550>"
      ]
     },
     "execution_count": 85,
     "metadata": {},
     "output_type": "execute_result"
    },
    {
     "data": {
      "image/png": "[encoded data removed]",
      "text/plain": [
       "<Figure size 432x288 with 1 Axes>"
      ]
     },
     "metadata": {
      "needs_background": "light"
     },
     "output_type": "display_data"
    }
   ],
   "source": [
    "def percentage(acc_list):\n",
    "    return [a*100 for a in acc_list]\n",
    "plt.plot(k, percentage(acc_pca1))\n",
    "plt.plot(k, percentage(acc_pca2))\n",
    "plt.plot(k, percentage(acc_pca3))\n",
    "plt.xlabel('K')\n",
    "plt.ylabel('Accuracy (%)')\n",
    "plt.legend(['Training', 'Validation', 'Testing'])"
   ]
  },
  {
   "cell_type": "code",
   "execution_count": null,
   "metadata": {},
   "outputs": [],
   "source": []
  }
 ],
 "metadata": {
  "kernelspec": {
   "display_name": "Python 3",
   "language": "python",
   "name": "python3"
  },
  "language_info": {
   "codemirror_mode": {
    "name": "ipython",
    "version": 3
   },
   "file_extension": ".py",
   "mimetype": "text/x-python",
   "name": "python",
   "nbconvert_exporter": "python",
   "pygments_lexer": "ipython3",
   "version": "3.7.1"
  }
 },
 "nbformat": 4,
 "nbformat_minor": 2
}
